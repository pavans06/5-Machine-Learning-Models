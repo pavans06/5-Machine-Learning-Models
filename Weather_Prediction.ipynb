{
  "nbformat": 4,
  "nbformat_minor": 0,
  "metadata": {
    "colab": {
      "name": "Weather Prediction.ipynb",
      "provenance": [],
      "collapsed_sections": []
    },
    "kernelspec": {
      "name": "python3",
      "display_name": "Python 3"
    },
    "language_info": {
      "name": "python"
    }
  },
  "cells": [
    {
      "cell_type": "code",
      "execution_count": null,
      "metadata": {
        "id": "XdCU2r5TuGv9"
      },
      "outputs": [],
      "source": [
        "%load_ext rpy2.ipython"
      ]
    },
    {
      "cell_type": "code",
      "source": [
        "%%R\n",
        "data = read.csv('weatherAUS.csv')\n",
        "head(data)"
      ],
      "metadata": {
        "colab": {
          "base_uri": "https://localhost:8080/"
        },
        "id": "NCgHd2PRuLA5",
        "outputId": "f4d0e526-67d9-4c2e-848b-bd6797ffca12"
      },
      "execution_count": null,
      "outputs": [
        {
          "output_type": "stream",
          "name": "stdout",
          "text": [
            "        Date Location MinTemp MaxTemp Rainfall Evaporation Sunshine WindGustDir\n",
            "1 2008-12-01   Albury    13.4    22.9      0.6          NA       NA           W\n",
            "2 2008-12-02   Albury     7.4    25.1      0.0          NA       NA         WNW\n",
            "3 2008-12-03   Albury    12.9    25.7      0.0          NA       NA         WSW\n",
            "4 2008-12-04   Albury     9.2    28.0      0.0          NA       NA          NE\n",
            "5 2008-12-05   Albury    17.5    32.3      1.0          NA       NA           W\n",
            "6 2008-12-06   Albury    14.6    29.7      0.2          NA       NA         WNW\n",
            "  WindGustSpeed WindDir9am WindDir3pm WindSpeed9am WindSpeed3pm Humidity9am\n",
            "1            44          W        WNW           20           24          71\n",
            "2            44        NNW        WSW            4           22          44\n",
            "3            46          W        WSW           19           26          38\n",
            "4            24         SE          E           11            9          45\n",
            "5            41        ENE         NW            7           20          82\n",
            "6            56          W          W           19           24          55\n",
            "  Humidity3pm Pressure9am Pressure3pm Cloud9am Cloud3pm Temp9am Temp3pm\n",
            "1          22      1007.7      1007.1        8       NA    16.9    21.8\n",
            "2          25      1010.6      1007.8       NA       NA    17.2    24.3\n",
            "3          30      1007.6      1008.7       NA        2    21.0    23.2\n",
            "4          16      1017.6      1012.8       NA       NA    18.1    26.5\n",
            "5          33      1010.8      1006.0        7        8    17.8    29.7\n",
            "6          23      1009.2      1005.4       NA       NA    20.6    28.9\n",
            "  RainToday RainTomorrow\n",
            "1        No           No\n",
            "2        No           No\n",
            "3        No           No\n",
            "4        No           No\n",
            "5        No           No\n",
            "6        No           No\n"
          ]
        }
      ]
    },
    {
      "cell_type": "code",
      "source": [
        "%%R\n",
        "dim(data)"
      ],
      "metadata": {
        "colab": {
          "base_uri": "https://localhost:8080/"
        },
        "id": "v2PrgxAN13QP",
        "outputId": "fa73e619-5433-4191-b748-a05097cbc3bb"
      },
      "execution_count": null,
      "outputs": [
        {
          "output_type": "stream",
          "name": "stdout",
          "text": [
            "[1] 145460     23\n"
          ]
        }
      ]
    },
    {
      "cell_type": "code",
      "source": [
        "%%R\n",
        "na_count = sapply(data, function(y) sum(length(which(is.na(y)))))\n",
        "na_count = data.frame(na_count)\n",
        "na_count\n"
      ],
      "metadata": {
        "colab": {
          "base_uri": "https://localhost:8080/"
        },
        "id": "pjjyFIjc1rfk",
        "outputId": "885a1301-e338-49e4-e788-cc87c0224c2c"
      },
      "execution_count": null,
      "outputs": [
        {
          "output_type": "stream",
          "name": "stdout",
          "text": [
            "              na_count\n",
            "Date                 0\n",
            "Location             0\n",
            "MinTemp           1485\n",
            "MaxTemp           1261\n",
            "Rainfall          3261\n",
            "Evaporation      62790\n",
            "Sunshine         69835\n",
            "WindGustDir      10326\n",
            "WindGustSpeed    10263\n",
            "WindDir9am       10566\n",
            "WindDir3pm        4228\n",
            "WindSpeed9am      1767\n",
            "WindSpeed3pm      3062\n",
            "Humidity9am       2654\n",
            "Humidity3pm       4507\n",
            "Pressure9am      15065\n",
            "Pressure3pm      15028\n",
            "Cloud9am         55888\n",
            "Cloud3pm         59358\n",
            "Temp9am           1767\n",
            "Temp3pm           3609\n",
            "RainToday         3261\n",
            "RainTomorrow      3267\n"
          ]
        }
      ]
    },
    {
      "cell_type": "markdown",
      "source": [
        "Removing all NA values"
      ],
      "metadata": {
        "id": "cvKLibtV2hOD"
      }
    },
    {
      "cell_type": "code",
      "source": [
        "%%R\n",
        "str(data)"
      ],
      "metadata": {
        "colab": {
          "base_uri": "https://localhost:8080/"
        },
        "id": "wE5z4qcL4CJA",
        "outputId": "91a289e4-faf0-4623-8646-8b03455f771d"
      },
      "execution_count": null,
      "outputs": [
        {
          "output_type": "stream",
          "name": "stdout",
          "text": [
            "'data.frame':\t145460 obs. of  23 variables:\n",
            " $ Date         : chr  \"2008-12-01\" \"2008-12-02\" \"2008-12-03\" \"2008-12-04\" ...\n",
            " $ Location     : chr  \"Albury\" \"Albury\" \"Albury\" \"Albury\" ...\n",
            " $ MinTemp      : num  13.4 7.4 12.9 9.2 17.5 14.6 14.3 7.7 9.7 13.1 ...\n",
            " $ MaxTemp      : num  22.9 25.1 25.7 28 32.3 29.7 25 26.7 31.9 30.1 ...\n",
            " $ Rainfall     : num  0.6 0 0 0 1 0.2 0 0 0 1.4 ...\n",
            " $ Evaporation  : num  NA NA NA NA NA NA NA NA NA NA ...\n",
            " $ Sunshine     : num  NA NA NA NA NA NA NA NA NA NA ...\n",
            " $ WindGustDir  : chr  \"W\" \"WNW\" \"WSW\" \"NE\" ...\n",
            " $ WindGustSpeed: int  44 44 46 24 41 56 50 35 80 28 ...\n",
            " $ WindDir9am   : chr  \"W\" \"NNW\" \"W\" \"SE\" ...\n",
            " $ WindDir3pm   : chr  \"WNW\" \"WSW\" \"WSW\" \"E\" ...\n",
            " $ WindSpeed9am : int  20 4 19 11 7 19 20 6 7 15 ...\n",
            " $ WindSpeed3pm : int  24 22 26 9 20 24 24 17 28 11 ...\n",
            " $ Humidity9am  : int  71 44 38 45 82 55 49 48 42 58 ...\n",
            " $ Humidity3pm  : int  22 25 30 16 33 23 19 19 9 27 ...\n",
            " $ Pressure9am  : num  1008 1011 1008 1018 1011 ...\n",
            " $ Pressure3pm  : num  1007 1008 1009 1013 1006 ...\n",
            " $ Cloud9am     : int  8 NA NA NA 7 NA 1 NA NA NA ...\n",
            " $ Cloud3pm     : int  NA NA 2 NA 8 NA NA NA NA NA ...\n",
            " $ Temp9am      : num  16.9 17.2 21 18.1 17.8 20.6 18.1 16.3 18.3 20.1 ...\n",
            " $ Temp3pm      : num  21.8 24.3 23.2 26.5 29.7 28.9 24.6 25.5 30.2 28.2 ...\n",
            " $ RainToday    : chr  \"No\" \"No\" \"No\" \"No\" ...\n",
            " $ RainTomorrow : chr  \"No\" \"No\" \"No\" \"No\" ...\n"
          ]
        }
      ]
    },
    {
      "cell_type": "code",
      "source": [
        "%%R\n",
        "df = data[,-c(1,2)] \n",
        "dim(df)"
      ],
      "metadata": {
        "colab": {
          "base_uri": "https://localhost:8080/"
        },
        "id": "R2tCzvUwLlNH",
        "outputId": "6130c1e9-fe67-4dc7-ab6f-f2b2545203a8"
      },
      "execution_count": null,
      "outputs": [
        {
          "output_type": "stream",
          "name": "stdout",
          "text": [
            "[1] 145460     21\n"
          ]
        }
      ]
    },
    {
      "cell_type": "code",
      "source": [
        "%%R\n",
        "df$Evaporation[is.na(df$Evaporation)] <- round(mean(df$Evaporation, na.rm = TRUE))\n",
        "df$Sunshine[is.na(df$Sunshine)] <- round(mean(df$Sunshine, na.rm = TRUE))\n",
        "df$Cloud9am[is.na(df$Cloud9am)] <- round(mean(df$Cloud9am, na.rm = TRUE))\n",
        "df$Cloud3pm[is.na(df$Cloud3pm)] <- round(mean(df$Cloud3pm, na.rm = TRUE))"
      ],
      "metadata": {
        "id": "FSa3VwirLzzK"
      },
      "execution_count": null,
      "outputs": []
    },
    {
      "cell_type": "code",
      "source": [
        "%%R\n",
        "df1 = na.omit(df)\n",
        "df2 = df1\n",
        "str(df1)"
      ],
      "metadata": {
        "colab": {
          "base_uri": "https://localhost:8080/"
        },
        "id": "ynvtyUkeL3XV",
        "outputId": "e766ccb0-2693-4b4d-fb5a-24536459d10b"
      },
      "execution_count": null,
      "outputs": [
        {
          "output_type": "stream",
          "name": "stdout",
          "text": [
            "'data.frame':\t112925 obs. of  21 variables:\n",
            " $ MinTemp      : num  13.4 7.4 12.9 9.2 17.5 14.6 14.3 7.7 9.7 13.1 ...\n",
            " $ MaxTemp      : num  22.9 25.1 25.7 28 32.3 29.7 25 26.7 31.9 30.1 ...\n",
            " $ Rainfall     : num  0.6 0 0 0 1 0.2 0 0 0 1.4 ...\n",
            " $ Evaporation  : num  5 5 5 5 5 5 5 5 5 5 ...\n",
            " $ Sunshine     : num  8 8 8 8 8 8 8 8 8 8 ...\n",
            " $ WindGustDir  : chr  \"W\" \"WNW\" \"WSW\" \"NE\" ...\n",
            " $ WindGustSpeed: int  44 44 46 24 41 56 50 35 80 28 ...\n",
            " $ WindDir9am   : chr  \"W\" \"NNW\" \"W\" \"SE\" ...\n",
            " $ WindDir3pm   : chr  \"WNW\" \"WSW\" \"WSW\" \"E\" ...\n",
            " $ WindSpeed9am : int  20 4 19 11 7 19 20 6 7 15 ...\n",
            " $ WindSpeed3pm : int  24 22 26 9 20 24 24 17 28 11 ...\n",
            " $ Humidity9am  : int  71 44 38 45 82 55 49 48 42 58 ...\n",
            " $ Humidity3pm  : int  22 25 30 16 33 23 19 19 9 27 ...\n",
            " $ Pressure9am  : num  1008 1011 1008 1018 1011 ...\n",
            " $ Pressure3pm  : num  1007 1008 1009 1013 1006 ...\n",
            " $ Cloud9am     : num  8 4 4 4 7 4 1 4 4 4 ...\n",
            " $ Cloud3pm     : num  5 5 2 5 8 5 5 5 5 5 ...\n",
            " $ Temp9am      : num  16.9 17.2 21 18.1 17.8 20.6 18.1 16.3 18.3 20.1 ...\n",
            " $ Temp3pm      : num  21.8 24.3 23.2 26.5 29.7 28.9 24.6 25.5 30.2 28.2 ...\n",
            " $ RainToday    : chr  \"No\" \"No\" \"No\" \"No\" ...\n",
            " $ RainTomorrow : chr  \"No\" \"No\" \"No\" \"No\" ...\n",
            " - attr(*, \"na.action\")= 'omit' Named int [1:32535] 15 16 27 65 66 76 87 89 90 96 ...\n",
            "  ..- attr(*, \"names\")= chr [1:32535] \"15\" \"16\" \"27\" \"65\" ...\n"
          ]
        }
      ]
    },
    {
      "cell_type": "code",
      "source": [
        "%%R\n",
        "df1$RainToday = as.factor(df1$RainToday)\n",
        "df1$RainTomorrow = as.factor(df1$RainTomorrow)\n",
        "table(df1$RainToday)\n",
        "table(df1$RainTomorrow)\n",
        "table(df1$WindGustDir)\n",
        "table(df1$WindDir9am)\n",
        "table(df1$WindDir3pm)\n",
        "str(df1)\n",
        "summary(df1)"
      ],
      "metadata": {
        "colab": {
          "base_uri": "https://localhost:8080/"
        },
        "id": "XC4vgLk5MW8z",
        "outputId": "9fcb80dd-3b58-4113-e267-f57a3acf041b"
      },
      "execution_count": null,
      "outputs": [
        {
          "output_type": "stream",
          "name": "stdout",
          "text": [
            "'data.frame':\t112925 obs. of  21 variables:\n",
            " $ MinTemp      : num  13.4 7.4 12.9 9.2 17.5 14.6 14.3 7.7 9.7 13.1 ...\n",
            " $ MaxTemp      : num  22.9 25.1 25.7 28 32.3 29.7 25 26.7 31.9 30.1 ...\n",
            " $ Rainfall     : num  0.6 0 0 0 1 0.2 0 0 0 1.4 ...\n",
            " $ Evaporation  : num  5 5 5 5 5 5 5 5 5 5 ...\n",
            " $ Sunshine     : num  8 8 8 8 8 8 8 8 8 8 ...\n",
            " $ WindGustDir  : chr  \"W\" \"WNW\" \"WSW\" \"NE\" ...\n",
            " $ WindGustSpeed: int  44 44 46 24 41 56 50 35 80 28 ...\n",
            " $ WindDir9am   : chr  \"W\" \"NNW\" \"W\" \"SE\" ...\n",
            " $ WindDir3pm   : chr  \"WNW\" \"WSW\" \"WSW\" \"E\" ...\n",
            " $ WindSpeed9am : int  20 4 19 11 7 19 20 6 7 15 ...\n",
            " $ WindSpeed3pm : int  24 22 26 9 20 24 24 17 28 11 ...\n",
            " $ Humidity9am  : int  71 44 38 45 82 55 49 48 42 58 ...\n",
            " $ Humidity3pm  : int  22 25 30 16 33 23 19 19 9 27 ...\n",
            " $ Pressure9am  : num  1008 1011 1008 1018 1011 ...\n",
            " $ Pressure3pm  : num  1007 1008 1009 1013 1006 ...\n",
            " $ Cloud9am     : num  8 4 4 4 7 4 1 4 4 4 ...\n",
            " $ Cloud3pm     : num  5 5 2 5 8 5 5 5 5 5 ...\n",
            " $ Temp9am      : num  16.9 17.2 21 18.1 17.8 20.6 18.1 16.3 18.3 20.1 ...\n",
            " $ Temp3pm      : num  21.8 24.3 23.2 26.5 29.7 28.9 24.6 25.5 30.2 28.2 ...\n",
            " $ RainToday    : Factor w/ 2 levels \"No\",\"Yes\": 1 1 1 1 1 1 1 1 1 2 ...\n",
            " $ RainTomorrow : Factor w/ 2 levels \"No\",\"Yes\": 1 1 1 1 1 1 1 1 2 1 ...\n",
            " - attr(*, \"na.action\")= 'omit' Named int [1:32535] 15 16 27 65 66 76 87 89 90 96 ...\n",
            "  ..- attr(*, \"names\")= chr [1:32535] \"15\" \"16\" \"27\" \"65\" ...\n",
            "    MinTemp         MaxTemp         Rainfall        Evaporation    \n",
            " Min.   :-8.20   Min.   : 2.60   Min.   :  0.000   Min.   : 0.000  \n",
            " 1st Qu.: 8.10   1st Qu.:18.30   1st Qu.:  0.000   1st Qu.: 4.000  \n",
            " Median :12.40   Median :23.10   Median :  0.000   Median : 5.000  \n",
            " Mean   :12.66   Mean   :23.66   Mean   :  2.378   Mean   : 5.377  \n",
            " 3rd Qu.:17.20   3rd Qu.:28.70   3rd Qu.:  0.800   3rd Qu.: 6.000  \n",
            " Max.   :33.90   Max.   :48.10   Max.   :367.600   Max.   :82.400  \n",
            "    Sunshine      WindGustDir        WindGustSpeed     WindDir9am       \n",
            " Min.   : 0.000   Length:112925      Min.   :  7.00   Length:112925     \n",
            " 1st Qu.: 7.700   Class :character   1st Qu.: 31.00   Class :character  \n",
            " Median : 8.000   Mode  :character   Median : 39.00   Mode  :character  \n",
            " Mean   : 7.839                      Mean   : 40.79                     \n",
            " 3rd Qu.: 9.400                      3rd Qu.: 48.00                     \n",
            " Max.   :14.500                      Max.   :135.00                     \n",
            "  WindDir3pm         WindSpeed9am    WindSpeed3pm   Humidity9am   \n",
            " Length:112925      Min.   : 2.00   Min.   : 2.0   Min.   :  0.0  \n",
            " Class :character   1st Qu.: 9.00   1st Qu.:13.0   1st Qu.: 56.0  \n",
            " Mode  :character   Median :13.00   Median :19.0   Median : 68.0  \n",
            "                    Mean   :15.18   Mean   :19.5   Mean   : 67.4  \n",
            "                    3rd Qu.:20.00   3rd Qu.:24.0   3rd Qu.: 81.0  \n",
            "                    Max.   :87.00   Max.   :87.0   Max.   :100.0  \n",
            "  Humidity3pm      Pressure9am      Pressure3pm        Cloud9am    \n",
            " Min.   :  0.00   Min.   : 980.5   Min.   : 977.1   Min.   :0.000  \n",
            " 1st Qu.: 36.00   1st Qu.:1012.8   1st Qu.:1010.3   1st Qu.:3.000  \n",
            " Median : 51.00   Median :1017.4   Median :1015.0   Median :4.000  \n",
            " Mean   : 50.67   Mean   :1017.4   Mean   :1015.0   Mean   :4.272  \n",
            " 3rd Qu.: 65.00   3rd Qu.:1022.1   3rd Qu.:1019.7   3rd Qu.:7.000  \n",
            " Max.   :100.00   Max.   :1041.0   Max.   :1039.6   Max.   :9.000  \n",
            "    Cloud3pm       Temp9am         Temp3pm      RainToday   RainTomorrow\n",
            " Min.   :0.00   Min.   :-3.10   Min.   : 1.70   No :87556   No :87906   \n",
            " 1st Qu.:3.00   1st Qu.:12.70   1st Qu.:16.90   Yes:25369   Yes:25019   \n",
            " Median :5.00   Median :17.10   Median :21.60                           \n",
            " Mean   :4.66   Mean   :17.46   Mean   :22.13                           \n",
            " 3rd Qu.:6.00   3rd Qu.:22.00   3rd Qu.:26.90                           \n",
            " Max.   :9.00   Max.   :40.20   Max.   :46.70                           \n"
          ]
        }
      ]
    },
    {
      "cell_type": "code",
      "source": [
        "%%R\n",
        "set.seed(100)\n",
        "df3 = df1\n",
        "for(i in c(1:5,7,10:19))\n",
        "  {outlier = abs(scale(df1[[i]]))>2.0\n",
        "  #print(paste(\"outliers of column\", i , \"is\",which(outlier==TRUE)))\n",
        "  df3[[i]][outlier] = mean(df3[[i]])\n",
        "}"
      ],
      "metadata": {
        "id": "Zq3JbYoEK2sa"
      },
      "execution_count": null,
      "outputs": []
    },
    {
      "cell_type": "code",
      "source": [
        "%%R\n",
        "set.seed(100)\n",
        "normalize <- function(x) {\n",
        "  return((x - min(x)) / (max(x) - min(x)))\n",
        "  }\n",
        "\n",
        "df1_normal = as.data.frame(lapply(df3[,c(1:5,7,10:19)], normalize))\n",
        "summary(df1_normal)"
      ],
      "metadata": {
        "id": "WB2bJBflOhNW",
        "colab": {
          "base_uri": "https://localhost:8080/"
        },
        "outputId": "4d6e1fd3-fbb0-4340-f2ee-9dbd40067d85"
      },
      "execution_count": null,
      "outputs": [
        {
          "output_type": "stream",
          "name": "stdout",
          "text": [
            "    MinTemp          MaxTemp          Rainfall        Evaporation    \n",
            " Min.   :0.0000   Min.   :0.0000   Min.   :0.00000   Min.   :0.0000  \n",
            " 1st Qu.:0.3253   1st Qu.:0.3082   1st Qu.:0.00000   1st Qu.:0.3306  \n",
            " Median :0.5006   Median :0.4839   Median :0.00000   Median :0.4132  \n",
            " Mean   :0.4991   Mean   :0.4858   Mean   :0.06567   Mean   :0.4126  \n",
            " 3rd Qu.:0.6667   3rd Qu.:0.6559   3rd Qu.:0.04124   3rd Qu.:0.4463  \n",
            " Max.   :1.0000   Max.   :1.0000   Max.   :1.00000   Max.   :1.0000  \n",
            "    Sunshine      WindGustSpeed     WindSpeed9am     WindSpeed3pm   \n",
            " Min.   :0.0000   Min.   :0.0000   Min.   :0.0000   Min.   :0.0000  \n",
            " 1st Qu.:0.4991   1st Qu.:0.3077   1st Qu.:0.2414   1st Qu.:0.2903  \n",
            " Median :0.5130   Median :0.4615   Median :0.3793   Median :0.4839  \n",
            " Mean   :0.5404   Mean   :0.4681   Mean   :0.4276   Mean   :0.4751  \n",
            " 3rd Qu.:0.6261   3rd Qu.:0.5962   3rd Qu.:0.5862   3rd Qu.:0.6452  \n",
            " Max.   :1.0000   Max.   :1.0000   Max.   :1.0000   Max.   :1.0000  \n",
            "  Humidity9am      Humidity3pm      Pressure9am      Pressure3pm    \n",
            " Min.   :0.0000   Min.   :0.0000   Min.   :0.0000   Min.   :0.0000  \n",
            " 1st Qu.:0.4000   1st Qu.:0.3293   1st Qu.:0.3536   1st Qu.:0.3466  \n",
            " Median :0.5429   Median :0.4960   Median :0.5009   Median :0.5000  \n",
            " Mean   :0.5606   Mean   :0.4917   Mean   :0.5021   Mean   :0.4997  \n",
            " 3rd Qu.:0.7286   3rd Qu.:0.6585   3rd Qu.:0.6500   3rd Qu.:0.6498  \n",
            " Max.   :1.0000   Max.   :1.0000   Max.   :1.0000   Max.   :1.0000  \n",
            "    Cloud9am         Cloud3pm         Temp9am          Temp3pm      \n",
            " Min.   :0.0000   Min.   :0.0000   Min.   :0.0000   Min.   :0.0000  \n",
            " 1st Qu.:0.3750   1st Qu.:0.3750   1st Qu.:0.3202   1st Qu.:0.3114  \n",
            " Median :0.5000   Median :0.5000   Median :0.4941   Median :0.4835  \n",
            " Mean   :0.5339   Mean   :0.4797   Mean   :0.4954   Mean   :0.4848  \n",
            " 3rd Qu.:0.8750   3rd Qu.:0.6250   3rd Qu.:0.6640   3rd Qu.:0.6484  \n",
            " Max.   :1.0000   Max.   :1.0000   Max.   :1.0000   Max.   :1.0000  \n"
          ]
        }
      ]
    },
    {
      "cell_type": "code",
      "source": [
        "%%R\n",
        "df1_r =  df1[c(6, 8, 9, 20, 21)]\n",
        "d_normal = cbind(df1_normal, df1_r)\n",
        "summary(d_normal)\n",
        "\n",
        "table(d_normal$WindGustDir)\n",
        "table(d_normal$WindDir9am)\n",
        "table(d_normal$WindDir3pm)\n",
        "table(d_normal$RainToday)\n",
        "table(d_normal$RainTomorrow)\n",
        "str(d_normal)"
      ],
      "metadata": {
        "colab": {
          "base_uri": "https://localhost:8080/"
        },
        "id": "RMYMWctoQNUg",
        "outputId": "83d38125-ea7b-4685-bd66-b1771a67bb9d"
      },
      "execution_count": null,
      "outputs": [
        {
          "output_type": "stream",
          "name": "stdout",
          "text": [
            "'data.frame':\t112925 obs. of  21 variables:\n",
            " $ MinTemp      : num  0.53 0.289 0.51 0.361 0.695 ...\n",
            " $ MaxTemp      : num  0.473 0.552 0.573 0.656 0.81 ...\n",
            " $ Rainfall     : num  0.0309 0 0 0 0.0515 ...\n",
            " $ Evaporation  : num  0.413 0.413 0.413 0.413 0.413 ...\n",
            " $ Sunshine     : num  0.513 0.513 0.513 0.513 0.513 ...\n",
            " $ WindGustSpeed: num  0.558 0.558 0.596 0.173 0.5 ...\n",
            " $ WindSpeed9am : num  0.621 0.069 0.586 0.31 0.172 ...\n",
            " $ WindSpeed3pm : num  0.645 0.581 0.71 0.161 0.516 ...\n",
            " $ Humidity9am  : num  0.586 0.2 0.114 0.214 0.743 ...\n",
            " $ Humidity3pm  : num  0.1463 0.1829 0.2439 0.0732 0.2805 ...\n",
            " $ Pressure9am  : num  0.154 0.257 0.15 0.507 0.264 ...\n",
            " $ Pressure3pm  : num  0.213 0.238 0.271 0.419 0.173 ...\n",
            " $ Cloud9am     : num  1 0.5 0.5 0.5 0.875 0.5 0.125 0.5 0.5 0.5 ...\n",
            " $ Cloud3pm     : num  0.5 0.5 0.125 0.5 0.875 0.5 0.5 0.5 0.5 0.5 ...\n",
            " $ Temp9am      : num  0.478 0.49 0.64 0.526 0.514 ...\n",
            " $ Temp3pm      : num  0.487 0.579 0.538 0.659 0.777 ...\n",
            " $ WindGustDir  : chr  \"W\" \"WNW\" \"WSW\" \"NE\" ...\n",
            " $ WindDir9am   : chr  \"W\" \"NNW\" \"W\" \"SE\" ...\n",
            " $ WindDir3pm   : chr  \"WNW\" \"WSW\" \"WSW\" \"E\" ...\n",
            " $ RainToday    : Factor w/ 2 levels \"No\",\"Yes\": 1 1 1 1 1 1 1 1 1 2 ...\n",
            " $ RainTomorrow : Factor w/ 2 levels \"No\",\"Yes\": 1 1 1 1 1 1 1 1 2 1 ...\n"
          ]
        }
      ]
    },
    {
      "cell_type": "code",
      "source": [
        "%%R\n",
        "d_normal = subset(d_normal, select = -c(MaxTemp, Temp3pm, Temp9am, Humidity9am, Pressure9am, WindGustSpeed))\n",
        "d_normal$WindGustDir = as.factor(d_normal$WindGustDir)\n",
        "d_normal$WindDir9am = as.factor(d_normal$WindDir9am)\n",
        "d_normal$WindDir3pm = as.factor(d_normal$WindDir3pm)\n",
        "str(d_normal)"
      ],
      "metadata": {
        "colab": {
          "base_uri": "https://localhost:8080/"
        },
        "id": "CYAjJl6hR3Jb",
        "outputId": "6331bf04-3792-44b6-89b2-1d6effda5fd0"
      },
      "execution_count": null,
      "outputs": [
        {
          "output_type": "stream",
          "name": "stdout",
          "text": [
            "'data.frame':\t112925 obs. of  15 variables:\n",
            " $ MinTemp     : num  0.53 0.289 0.51 0.361 0.695 ...\n",
            " $ Rainfall    : num  0.0309 0 0 0 0.0515 ...\n",
            " $ Evaporation : num  0.413 0.413 0.413 0.413 0.413 ...\n",
            " $ Sunshine    : num  0.513 0.513 0.513 0.513 0.513 ...\n",
            " $ WindSpeed9am: num  0.621 0.069 0.586 0.31 0.172 ...\n",
            " $ WindSpeed3pm: num  0.645 0.581 0.71 0.161 0.516 ...\n",
            " $ Humidity3pm : num  0.1463 0.1829 0.2439 0.0732 0.2805 ...\n",
            " $ Pressure3pm : num  0.213 0.238 0.271 0.419 0.173 ...\n",
            " $ Cloud9am    : num  1 0.5 0.5 0.5 0.875 0.5 0.125 0.5 0.5 0.5 ...\n",
            " $ Cloud3pm    : num  0.5 0.5 0.125 0.5 0.875 0.5 0.5 0.5 0.5 0.5 ...\n",
            " $ WindGustDir : Factor w/ 16 levels \"E\",\"ENE\",\"ESE\",..: 14 15 16 5 14 15 14 14 7 14 ...\n",
            " $ WindDir9am  : Factor w/ 16 levels \"E\",\"ENE\",\"ESE\",..: 14 7 14 10 2 14 13 11 10 9 ...\n",
            " $ WindDir3pm  : Factor w/ 16 levels \"E\",\"ENE\",\"ESE\",..: 15 16 16 1 8 14 14 14 8 11 ...\n",
            " $ RainToday   : Factor w/ 2 levels \"No\",\"Yes\": 1 1 1 1 1 1 1 1 1 2 ...\n",
            " $ RainTomorrow: Factor w/ 2 levels \"No\",\"Yes\": 1 1 1 1 1 1 1 1 2 1 ...\n"
          ]
        }
      ]
    },
    {
      "cell_type": "markdown",
      "source": [
        "## Naive Bayes Implementation"
      ],
      "metadata": {
        "id": "MZ_9zIDlRTFM"
      }
    },
    {
      "cell_type": "code",
      "source": [
        "## splitting training and test sets into 80 : 20 \n",
        "%%R\n",
        "set.seed(10)\n",
        "train = sample(nrow(d_normal), 0.8*nrow(d_normal), replace = FALSE)\n",
        "trainSet = d_normal[train,]\n",
        "testSet = d_normal[-train,]\n",
        "summary(trainSet)\n",
        "summary(testSet)"
      ],
      "metadata": {
        "colab": {
          "base_uri": "https://localhost:8080/"
        },
        "id": "pF2z9cgMRI54",
        "outputId": "ff707e8f-4cae-4fb2-e5b1-d5f1049be015"
      },
      "execution_count": null,
      "outputs": [
        {
          "output_type": "stream",
          "name": "stdout",
          "text": [
            "    MinTemp          Rainfall        Evaporation        Sunshine     \n",
            " Min.   :0.0000   Min.   :0.00000   Min.   :0.0000   Min.   :0.0000  \n",
            " 1st Qu.:0.3293   1st Qu.:0.00000   1st Qu.:0.3306   1st Qu.:0.4991  \n",
            " Median :0.5006   Median :0.00000   Median :0.4132   Median :0.5130  \n",
            " Mean   :0.4992   Mean   :0.06423   Mean   :0.4119   Mean   :0.5402  \n",
            " 3rd Qu.:0.6667   3rd Qu.:0.03093   3rd Qu.:0.4463   3rd Qu.:0.6261  \n",
            " Max.   :1.0000   Max.   :1.00000   Max.   :1.0000   Max.   :1.0000  \n",
            "                                                                     \n",
            "  WindSpeed9am     WindSpeed3pm     Humidity3pm      Pressure3pm    \n",
            " Min.   :0.0000   Min.   :0.0000   Min.   :0.0000   Min.   :0.0000  \n",
            " 1st Qu.:0.2414   1st Qu.:0.2903   1st Qu.:0.3293   1st Qu.:0.3466  \n",
            " Median :0.3793   Median :0.4839   Median :0.4960   Median :0.5000  \n",
            " Mean   :0.4296   Mean   :0.4774   Mean   :0.4915   Mean   :0.4986  \n",
            " 3rd Qu.:0.5862   3rd Qu.:0.6452   3rd Qu.:0.6585   3rd Qu.:0.6498  \n",
            " Max.   :1.0000   Max.   :1.0000   Max.   :1.0000   Max.   :1.0000  \n",
            "                                                                    \n",
            "    Cloud9am         Cloud3pm       WindGustDir      WindDir9am   \n",
            " Min.   :0.0000   Min.   :0.0000   W      : 1689   N      : 1984  \n",
            " 1st Qu.:0.3750   1st Qu.:0.3750   SE     : 1638   SSE    : 1691  \n",
            " Median :0.5000   Median :0.5000   S      : 1550   E      : 1635  \n",
            " Mean   :0.5355   Mean   :0.4797   N      : 1543   SE     : 1560  \n",
            " 3rd Qu.:0.8750   3rd Qu.:0.6250   E      : 1530   S      : 1433  \n",
            " Max.   :1.0000   Max.   :1.0000   SSE    : 1500   NNE    : 1394  \n",
            "                                   (Other):13135   (Other):12888  \n",
            "   WindDir3pm    RainToday   RainTomorrow\n",
            " SE     : 1717   No :17582   No :17485   \n",
            " W      : 1611   Yes: 5003   Yes: 5100   \n",
            " S      : 1606                           \n",
            " SSE    : 1529                           \n",
            " WSW    : 1529                           \n",
            " SW     : 1505                           \n",
            " (Other):13088                           \n"
          ]
        }
      ]
    },
    {
      "cell_type": "code",
      "source": [
        "%%R\n",
        "install.packages(\"e1071\")\n",
        "install.packages(\"caTools\")\n",
        "#install.packages(\"caret\")"
      ],
      "metadata": {
        "colab": {
          "base_uri": "https://localhost:8080/"
        },
        "id": "dreO5ATqUR41",
        "outputId": "968be21a-ea9b-4a90-e7f4-8f4cf3d1d644"
      },
      "execution_count": null,
      "outputs": [
        {
          "output_type": "stream",
          "name": "stderr",
          "text": [
            "R[write to console]: Installing package into ‘/usr/local/lib/R/site-library’\n",
            "(as ‘lib’ is unspecified)\n",
            "\n",
            "R[write to console]: trying URL 'https://cran.rstudio.com/src/contrib/e1071_1.7-9.tar.gz'\n",
            "\n",
            "R[write to console]: Content type 'application/x-gzip'\n",
            "R[write to console]:  length 566723 bytes (553 KB)\n",
            "\n",
            "R[write to console]: =\n",
            "R[write to console]: =\n",
            "R[write to console]: =\n",
            "R[write to console]: =\n",
            "R[write to console]: =\n",
            "R[write to console]: =\n",
            "R[write to console]: =\n",
            "R[write to console]: =\n",
            "R[write to console]: =\n",
            "R[write to console]: =\n",
            "R[write to console]: =\n",
            "R[write to console]: =\n",
            "R[write to console]: =\n",
            "R[write to console]: =\n",
            "R[write to console]: =\n",
            "R[write to console]: =\n",
            "R[write to console]: =\n",
            "R[write to console]: =\n",
            "R[write to console]: =\n",
            "R[write to console]: =\n",
            "R[write to console]: =\n",
            "R[write to console]: =\n",
            "R[write to console]: =\n",
            "R[write to console]: =\n",
            "R[write to console]: =\n",
            "R[write to console]: =\n",
            "R[write to console]: =\n",
            "R[write to console]: =\n",
            "R[write to console]: =\n",
            "R[write to console]: =\n",
            "R[write to console]: =\n",
            "R[write to console]: =\n",
            "R[write to console]: =\n",
            "R[write to console]: =\n",
            "R[write to console]: =\n",
            "R[write to console]: =\n",
            "R[write to console]: =\n",
            "R[write to console]: =\n",
            "R[write to console]: =\n",
            "R[write to console]: =\n",
            "R[write to console]: =\n",
            "R[write to console]: =\n",
            "R[write to console]: =\n",
            "R[write to console]: =\n",
            "R[write to console]: =\n",
            "R[write to console]: =\n",
            "R[write to console]: =\n",
            "R[write to console]: =\n",
            "R[write to console]: =\n",
            "R[write to console]: =\n",
            "R[write to console]: \n",
            "\n",
            "R[write to console]: downloaded 553 KB\n",
            "\n",
            "\n",
            "R[write to console]: \n",
            "\n",
            "R[write to console]: \n",
            "R[write to console]: The downloaded source packages are in\n",
            "\t‘/tmp/RtmpS77Cju/downloaded_packages’\n",
            "R[write to console]: \n",
            "R[write to console]: \n",
            "\n",
            "R[write to console]: Installing package into ‘/usr/local/lib/R/site-library’\n",
            "(as ‘lib’ is unspecified)\n",
            "\n",
            "R[write to console]: trying URL 'https://cran.rstudio.com/src/contrib/caTools_1.18.2.tar.gz'\n",
            "\n",
            "R[write to console]: Content type 'application/x-gzip'\n",
            "R[write to console]:  length 64960 bytes (63 KB)\n",
            "\n",
            "R[write to console]: =\n",
            "R[write to console]: =\n",
            "R[write to console]: =\n",
            "R[write to console]: =\n",
            "R[write to console]: =\n",
            "R[write to console]: =\n",
            "R[write to console]: =\n",
            "R[write to console]: =\n",
            "R[write to console]: =\n",
            "R[write to console]: =\n",
            "R[write to console]: =\n",
            "R[write to console]: =\n",
            "R[write to console]: =\n",
            "R[write to console]: =\n",
            "R[write to console]: =\n",
            "R[write to console]: =\n",
            "R[write to console]: =\n",
            "R[write to console]: =\n",
            "R[write to console]: =\n",
            "R[write to console]: =\n",
            "R[write to console]: =\n",
            "R[write to console]: =\n",
            "R[write to console]: =\n",
            "R[write to console]: =\n",
            "R[write to console]: =\n",
            "R[write to console]: =\n",
            "R[write to console]: =\n",
            "R[write to console]: =\n",
            "R[write to console]: =\n",
            "R[write to console]: =\n",
            "R[write to console]: =\n",
            "R[write to console]: =\n",
            "R[write to console]: =\n",
            "R[write to console]: =\n",
            "R[write to console]: =\n",
            "R[write to console]: =\n",
            "R[write to console]: =\n",
            "R[write to console]: =\n",
            "R[write to console]: =\n",
            "R[write to console]: =\n",
            "R[write to console]: =\n",
            "R[write to console]: =\n",
            "R[write to console]: =\n",
            "R[write to console]: =\n",
            "R[write to console]: =\n",
            "R[write to console]: =\n",
            "R[write to console]: =\n",
            "R[write to console]: =\n",
            "R[write to console]: =\n",
            "R[write to console]: =\n",
            "R[write to console]: \n",
            "\n",
            "R[write to console]: downloaded 63 KB\n",
            "\n",
            "\n",
            "R[write to console]: \n",
            "\n",
            "R[write to console]: \n",
            "R[write to console]: The downloaded source packages are in\n",
            "\t‘/tmp/RtmpS77Cju/downloaded_packages’\n",
            "R[write to console]: \n",
            "R[write to console]: \n",
            "\n"
          ]
        }
      ]
    },
    {
      "cell_type": "code",
      "source": [
        "%%R\n",
        "library(e1071)\n",
        "library(caTools)\n",
        "#library(caret)\n",
        "\n",
        "set.seed(10)\n",
        "# building a Naive Bayes model using training dataset\n",
        "nb1 = naiveBayes(RainTomorrow ~ ., data = trainSet)\n",
        "nb1"
      ],
      "metadata": {
        "colab": {
          "base_uri": "https://localhost:8080/"
        },
        "id": "QTiSmwmrTRs6",
        "outputId": "28577753-3b18-4ac8-ac6f-14a496015762"
      },
      "execution_count": null,
      "outputs": [
        {
          "output_type": "stream",
          "name": "stdout",
          "text": [
            "\n",
            "Naive Bayes Classifier for Discrete Predictors\n",
            "\n",
            "Call:\n",
            "naiveBayes.default(x = X, y = Y, laplace = laplace)\n",
            "\n",
            "A-priori probabilities:\n",
            "Y\n",
            "       No       Yes \n",
            "0.7795107 0.2204893 \n",
            "\n",
            "Conditional probabilities:\n",
            "     MinTemp\n",
            "Y          [,1]      [,2]\n",
            "  No  0.4912893 0.2289662\n",
            "  Yes 0.5268476 0.2306864\n",
            "\n",
            "     Rainfall\n",
            "Y           [,1]      [,2]\n",
            "  No  0.04298622 0.1261247\n",
            "  Yes 0.14750860 0.2229003\n",
            "\n",
            "     Evaporation\n",
            "Y          [,1]      [,2]\n",
            "  No  0.4230767 0.1862780\n",
            "  Yes 0.3762708 0.1741968\n",
            "\n",
            "     Sunshine\n",
            "Y          [,1]      [,2]\n",
            "  No  0.5670894 0.1854939\n",
            "  Yes 0.4461275 0.1613552\n",
            "\n",
            "     WindSpeed9am\n",
            "Y          [,1]      [,2]\n",
            "  No  0.4184585 0.2413992\n",
            "  Yes 0.4575821 0.2450633\n",
            "\n",
            "     WindSpeed3pm\n",
            "Y          [,1]      [,2]\n",
            "  No  0.4665539 0.2292875\n",
            "  Yes 0.5027713 0.2362510\n",
            "\n",
            "     Humidity3pm\n",
            "Y          [,1]      [,2]\n",
            "  No  0.4432279 0.2121097\n",
            "  Yes 0.6632392 0.2076356\n",
            "\n",
            "     Pressure3pm\n",
            "Y          [,1]      [,2]\n",
            "  No  0.5208062 0.2096912\n",
            "  Yes 0.4260757 0.2147016\n",
            "\n",
            "     Cloud9am\n",
            "Y          [,1]      [,2]\n",
            "  No  0.4917945 0.2910741\n",
            "  Yes 0.6810959 0.2583082\n",
            "\n",
            "     Cloud3pm\n",
            "Y          [,1]      [,2]\n",
            "  No  0.4403781 0.2471308\n",
            "  Yes 0.6185290 0.2156290\n",
            "\n",
            "     WindGustDir\n",
            "Y              E        ENE        ESE          N         NE        NNE\n",
            "  No  0.07619886 0.06456881 0.05930049 0.06357479 0.05597762 0.04724443\n",
            "  Yes 0.04714092 0.04227120 0.04151815 0.08328731 0.04437974 0.05281390\n",
            "     WindGustDir\n",
            "Y            NNW         NW          S         SE        SSE        SSW\n",
            "  No  0.04217492 0.05134832 0.06811888 0.07458003 0.07120035 0.06607404\n",
            "  Yes 0.05944073 0.07364828 0.06933079 0.06009338 0.06094683 0.06360761\n",
            "     WindGustDir\n",
            "Y             SW          W        WNW        WSW\n",
            "  No  0.06960992 0.06912711 0.05380497 0.06709646\n",
            "  Yes 0.05994277 0.09152066 0.07761434 0.07244340\n",
            "\n",
            "     WindDir9am\n",
            "Y              E        ENE        ESE          N         NE        NNE\n",
            "  No  0.07776090 0.06519362 0.06397239 0.07655387 0.05785206 0.05736925\n",
            "  Yes 0.04362669 0.04774336 0.03780310 0.12249611 0.05341634 0.07605804\n",
            "     WindDir9am\n",
            "Y            NNW         NW          S         SE        SSE        SSW\n",
            "  No  0.05093651 0.05437299 0.07019213 0.07531844 0.07521904 0.05658823\n",
            "  Yes 0.07987349 0.07164014 0.05723179 0.04819519 0.05693057 0.05271349\n",
            "     WindDir9am\n",
            "Y             SW          W        WNW        WSW\n",
            "  No  0.06172875 0.05562261 0.05019809 0.05112111\n",
            "  Yes 0.06365781 0.06968221 0.06285456 0.05607711\n",
            "\n",
            "     WindDir3pm\n",
            "Y              E        ENE        ESE          N         NE        NNE\n",
            "  No  0.06336178 0.06202695 0.06459721 0.05908749 0.06026611 0.04495818\n",
            "  Yes 0.04533360 0.04683970 0.04794417 0.08052613 0.05010292 0.05396857\n",
            "     WindDir3pm\n",
            "Y            NNW         NW          S         SE        SSE        SSW\n",
            "  No  0.04920407 0.05086551 0.07327360 0.07669587 0.07202397 0.06006731\n",
            "  Yes 0.06822632 0.07490336 0.06877855 0.06059541 0.05989256 0.05833626\n",
            "     WindDir3pm\n",
            "Y             SW          W        WNW        WSW\n",
            "  No  0.07102995 0.06702546 0.05599182 0.06952472\n",
            "  Yes 0.05768362 0.08117877 0.07806617 0.06762388\n",
            "\n",
            "     RainToday\n",
            "Y            No       Yes\n",
            "  No  0.8445066 0.1554934\n",
            "  Yes 0.5272855 0.4727145\n",
            "\n"
          ]
        }
      ]
    },
    {
      "cell_type": "markdown",
      "source": [
        "Prediction using test set"
      ],
      "metadata": {
        "id": "2N1R29_PWimO"
      }
    },
    {
      "cell_type": "code",
      "source": [
        "%%R\n",
        "pred = predict(nb1, newdata = testSet)\n",
        "cm = table(testSet$RainTomorrow, pred)\n",
        "cm"
      ],
      "metadata": {
        "colab": {
          "base_uri": "https://localhost:8080/"
        },
        "id": "pzQ4acyZV2PJ",
        "outputId": "8e5832cf-d2ed-4b2d-bcb2-c1622c2e6a74"
      },
      "execution_count": null,
      "outputs": [
        {
          "output_type": "stream",
          "name": "stdout",
          "text": [
            "     pred\n",
            "         No   Yes\n",
            "  No  15172  2313\n",
            "  Yes  2189  2911\n"
          ]
        }
      ]
    },
    {
      "cell_type": "code",
      "source": [
        "%%R\n",
        "install.packages(\"caret\")"
      ],
      "metadata": {
        "colab": {
          "base_uri": "https://localhost:8080/"
        },
        "id": "_DVxPjbuW7Jx",
        "outputId": "164e5fb7-a017-47cb-fe4b-f255c060ba85"
      },
      "execution_count": null,
      "outputs": [
        {
          "output_type": "stream",
          "name": "stderr",
          "text": [
            "R[write to console]: Installing package into ‘/usr/local/lib/R/site-library’\n",
            "(as ‘lib’ is unspecified)\n",
            "\n",
            "R[write to console]: trying URL 'https://cran.rstudio.com/src/contrib/caret_6.0-90.tar.gz'\n",
            "\n",
            "R[write to console]: Content type 'application/x-gzip'\n",
            "R[write to console]:  length 2335088 bytes (2.2 MB)\n",
            "\n",
            "R[write to console]: =\n",
            "R[write to console]: =\n",
            "R[write to console]: =\n",
            "R[write to console]: =\n",
            "R[write to console]: =\n",
            "R[write to console]: =\n",
            "R[write to console]: =\n",
            "R[write to console]: =\n",
            "R[write to console]: =\n",
            "R[write to console]: =\n",
            "R[write to console]: =\n",
            "R[write to console]: =\n",
            "R[write to console]: =\n",
            "R[write to console]: =\n",
            "R[write to console]: =\n",
            "R[write to console]: =\n",
            "R[write to console]: =\n",
            "R[write to console]: =\n",
            "R[write to console]: =\n",
            "R[write to console]: =\n",
            "R[write to console]: =\n",
            "R[write to console]: =\n",
            "R[write to console]: =\n",
            "R[write to console]: =\n",
            "R[write to console]: =\n",
            "R[write to console]: =\n",
            "R[write to console]: =\n",
            "R[write to console]: =\n",
            "R[write to console]: =\n",
            "R[write to console]: =\n",
            "R[write to console]: =\n",
            "R[write to console]: =\n",
            "R[write to console]: =\n",
            "R[write to console]: =\n",
            "R[write to console]: =\n",
            "R[write to console]: =\n",
            "R[write to console]: =\n",
            "R[write to console]: =\n",
            "R[write to console]: =\n",
            "R[write to console]: =\n",
            "R[write to console]: =\n",
            "R[write to console]: =\n",
            "R[write to console]: =\n",
            "R[write to console]: =\n",
            "R[write to console]: =\n",
            "R[write to console]: =\n",
            "R[write to console]: =\n",
            "R[write to console]: =\n",
            "R[write to console]: =\n",
            "R[write to console]: =\n",
            "R[write to console]: \n",
            "\n",
            "R[write to console]: downloaded 2.2 MB\n",
            "\n",
            "\n",
            "R[write to console]: \n",
            "\n",
            "R[write to console]: \n",
            "R[write to console]: The downloaded source packages are in\n",
            "\t‘/tmp/RtmpS77Cju/downloaded_packages’\n",
            "R[write to console]: \n",
            "R[write to console]: \n",
            "\n"
          ]
        }
      ]
    },
    {
      "cell_type": "code",
      "source": [
        "%%R\n",
        "mean(testSet$RainTomorrow == pred) * 100"
      ],
      "metadata": {
        "colab": {
          "base_uri": "https://localhost:8080/"
        },
        "id": "Dq4xtup3WqM0",
        "outputId": "3a9cba66-0c99-400c-c173-af6ddb5a216d"
      },
      "execution_count": null,
      "outputs": [
        {
          "output_type": "stream",
          "name": "stdout",
          "text": [
            "[1] 80.06642\n"
          ]
        }
      ]
    },
    {
      "cell_type": "markdown",
      "source": [
        "Accuracy of Naive Bayes is 80.06 %"
      ],
      "metadata": {
        "id": "kIzB3YwPYdtN"
      }
    },
    {
      "cell_type": "code",
      "source": [
        "## splitting training and test sets into 80 : 20 \n",
        "%%R\n",
        "set.seed(10)\n",
        "train = sample(nrow(d_normal), 0.8*nrow(d_normal), replace = FALSE)\n",
        "trainSet = d_normal[train,]\n",
        "testSet = d_normal[-train,]\n",
        "summary(trainSet)\n",
        "summary(testSet)"
      ],
      "metadata": {
        "colab": {
          "base_uri": "https://localhost:8080/"
        },
        "id": "nvGamrlF5bc0",
        "outputId": "d637ac14-c4ca-4059-d437-e8f5a847c7b3"
      },
      "execution_count": null,
      "outputs": [
        {
          "output_type": "stream",
          "name": "stdout",
          "text": [
            "    MinTemp          Rainfall        Evaporation        Sunshine     \n",
            " Min.   :0.0000   Min.   :0.00000   Min.   :0.0000   Min.   :0.0000  \n",
            " 1st Qu.:0.3293   1st Qu.:0.00000   1st Qu.:0.3306   1st Qu.:0.4991  \n",
            " Median :0.5006   Median :0.00000   Median :0.4132   Median :0.5130  \n",
            " Mean   :0.4992   Mean   :0.06423   Mean   :0.4119   Mean   :0.5402  \n",
            " 3rd Qu.:0.6667   3rd Qu.:0.03093   3rd Qu.:0.4463   3rd Qu.:0.6261  \n",
            " Max.   :1.0000   Max.   :1.00000   Max.   :1.0000   Max.   :1.0000  \n",
            "                                                                     \n",
            "  WindSpeed9am     WindSpeed3pm     Humidity3pm      Pressure3pm    \n",
            " Min.   :0.0000   Min.   :0.0000   Min.   :0.0000   Min.   :0.0000  \n",
            " 1st Qu.:0.2414   1st Qu.:0.2903   1st Qu.:0.3293   1st Qu.:0.3466  \n",
            " Median :0.3793   Median :0.4839   Median :0.4960   Median :0.5000  \n",
            " Mean   :0.4296   Mean   :0.4774   Mean   :0.4915   Mean   :0.4986  \n",
            " 3rd Qu.:0.5862   3rd Qu.:0.6452   3rd Qu.:0.6585   3rd Qu.:0.6498  \n",
            " Max.   :1.0000   Max.   :1.0000   Max.   :1.0000   Max.   :1.0000  \n",
            "                                                                    \n",
            "    Cloud9am         Cloud3pm       WindGustDir      WindDir9am   \n",
            " Min.   :0.0000   Min.   :0.0000   W      : 1689   N      : 1984  \n",
            " 1st Qu.:0.3750   1st Qu.:0.3750   SE     : 1638   SSE    : 1691  \n",
            " Median :0.5000   Median :0.5000   S      : 1550   E      : 1635  \n",
            " Mean   :0.5355   Mean   :0.4797   N      : 1543   SE     : 1560  \n",
            " 3rd Qu.:0.8750   3rd Qu.:0.6250   E      : 1530   S      : 1433  \n",
            " Max.   :1.0000   Max.   :1.0000   SSE    : 1500   NNE    : 1394  \n",
            "                                   (Other):13135   (Other):12888  \n",
            "   WindDir3pm    RainToday   RainTomorrow\n",
            " SE     : 1717   No :17582   No :17485   \n",
            " W      : 1611   Yes: 5003   Yes: 5100   \n",
            " S      : 1606                           \n",
            " SSE    : 1529                           \n",
            " WSW    : 1529                           \n",
            " SW     : 1505                           \n",
            " (Other):13088                           \n"
          ]
        }
      ]
    },
    {
      "cell_type": "markdown",
      "source": [
        "## Logistic Regreesion Implentation"
      ],
      "metadata": {
        "id": "PnVnhBIb59ln"
      }
    },
    {
      "cell_type": "code",
      "source": [
        "%%R\n",
        "lg1 = glm(RainTomorrow ~ ., data = trainSet, family = \"binomial\")\n",
        "summary(lg1)"
      ],
      "metadata": {
        "colab": {
          "base_uri": "https://localhost:8080/"
        },
        "id": "nVd3jtet6TJ7",
        "outputId": "a1d398b3-a521-468a-f537-92024b4521d0"
      },
      "execution_count": null,
      "outputs": [
        {
          "output_type": "stream",
          "name": "stdout",
          "text": [
            "\n",
            "Call:\n",
            "glm(formula = RainTomorrow ~ ., family = \"binomial\", data = trainSet)\n",
            "\n",
            "Deviance Residuals: \n",
            "    Min       1Q   Median       3Q      Max  \n",
            "-2.9167  -0.5993  -0.3387  -0.1483   3.0916  \n",
            "\n",
            "Coefficients:\n",
            "                Estimate Std. Error z value Pr(>|z|)    \n",
            "(Intercept)    -3.532661   0.099365 -35.552  < 2e-16 ***\n",
            "MinTemp         0.139335   0.052722   2.643 0.008222 ** \n",
            "Rainfall        0.770159   0.070570  10.913  < 2e-16 ***\n",
            "Evaporation     0.205815   0.064045   3.214 0.001311 ** \n",
            "Sunshine       -1.490040   0.063480 -23.472  < 2e-16 ***\n",
            "WindSpeed9am    0.406372   0.044245   9.185  < 2e-16 ***\n",
            "WindSpeed3pm    0.089298   0.046493   1.921 0.054775 .  \n",
            "Humidity3pm     3.917767   0.054317  72.128  < 2e-16 ***\n",
            "Pressure3pm    -2.133554   0.052173 -40.894  < 2e-16 ***\n",
            "Cloud9am        0.336584   0.041959   8.022 1.04e-15 ***\n",
            "Cloud3pm        1.469608   0.050774  28.944  < 2e-16 ***\n",
            "WindGustDirENE -0.172571   0.062572  -2.758 0.005817 ** \n",
            "WindGustDirESE  0.069252   0.062759   1.103 0.269828    \n",
            "WindGustDirN   -0.061233   0.063534  -0.964 0.335153    \n",
            "WindGustDirNE  -0.284084   0.065535  -4.335 1.46e-05 ***\n",
            "WindGustDirNNE -0.160418   0.066474  -2.413 0.015812 *  \n",
            "WindGustDirNNW  0.015821   0.067689   0.234 0.815200    \n",
            "WindGustDirNW   0.093456   0.065265   1.432 0.152160    \n",
            "WindGustDirS    0.135894   0.062499   2.174 0.029681 *  \n",
            "WindGustDirSE   0.151023   0.060986   2.476 0.013273 *  \n",
            "WindGustDirSSE  0.150582   0.062431   2.412 0.015866 *  \n",
            "WindGustDirSSW  0.081996   0.063547   1.290 0.196939    \n",
            "WindGustDirSW   0.064009   0.064717   0.989 0.322630    \n",
            "WindGustDirW    0.113993   0.063061   1.808 0.070659 .  \n",
            "WindGustDirWNW  0.088818   0.064944   1.368 0.171432    \n",
            "WindGustDirWSW  0.118987   0.064150   1.855 0.063619 .  \n",
            "WindDir9amENE   0.268604   0.061170   4.391 1.13e-05 ***\n",
            "WindDir9amESE  -0.102859   0.063843  -1.611 0.107152    \n",
            "WindDir9amN     0.383399   0.056299   6.810 9.76e-12 ***\n",
            "WindDir9amNE    0.298187   0.061563   4.844 1.28e-06 ***\n",
            "WindDir9amNNE   0.515901   0.059357   8.692  < 2e-16 ***\n",
            "WindDir9amNNW   0.138217   0.060113   2.299 0.021488 *  \n",
            "WindDir9amNW    0.053022   0.060473   0.877 0.380602    \n",
            "WindDir9amS    -0.244013   0.061088  -3.994 6.49e-05 ***\n",
            "WindDir9amSE   -0.172015   0.061080  -2.816 0.004859 ** \n",
            "WindDir9amSSE  -0.229794   0.060408  -3.804 0.000142 ***\n",
            "WindDir9amSSW  -0.113346   0.062440  -1.815 0.069480 .  \n",
            "WindDir9amSW    0.012170   0.060289   0.202 0.840026    \n",
            "WindDir9amW     0.013033   0.060798   0.214 0.830257    \n",
            "WindDir9amWNW   0.038900   0.062021   0.627 0.530529    \n",
            "WindDir9amWSW  -0.028804   0.062499  -0.461 0.644886    \n",
            "WindDir3pmENE   0.097283   0.061583   1.580 0.114174    \n",
            "WindDir3pmESE   0.067747   0.060885   1.113 0.265835    \n",
            "WindDir3pmN     0.459159   0.063684   7.210 5.60e-13 ***\n",
            "WindDir3pmNE    0.026055   0.063849   0.408 0.683222    \n",
            "WindDir3pmNNE   0.319830   0.065980   4.847 1.25e-06 ***\n",
            "WindDir3pmNNW   0.505005   0.065563   7.703 1.33e-14 ***\n",
            "WindDir3pmNW    0.481790   0.064947   7.418 1.19e-13 ***\n",
            "WindDir3pmS    -0.017686   0.061993  -0.285 0.775428    \n",
            "WindDir3pmSE   -0.007033   0.060418  -0.116 0.907335    \n",
            "WindDir3pmSSE  -0.058439   0.062105  -0.941 0.346727    \n",
            "WindDir3pmSSW   0.023709   0.064782   0.366 0.714374    \n",
            "WindDir3pmSW   -0.093253   0.064706  -1.441 0.149531    \n",
            "WindDir3pmW     0.094466   0.063471   1.488 0.136665    \n",
            "WindDir3pmWNW   0.311664   0.064276   4.849 1.24e-06 ***\n",
            "WindDir3pmWSW  -0.002399   0.064168  -0.037 0.970180    \n",
            "RainTodayYes    0.651294   0.028855  22.571  < 2e-16 ***\n",
            "---\n",
            "Signif. codes:  0 ‘***’ 0.001 ‘**’ 0.01 ‘*’ 0.05 ‘.’ 0.1 ‘ ’ 1\n",
            "\n",
            "(Dispersion parameter for binomial family taken to be 1)\n",
            "\n",
            "    Null deviance: 95313  on 90339  degrees of freedom\n",
            "Residual deviance: 69195  on 90283  degrees of freedom\n",
            "AIC: 69309\n",
            "\n",
            "Number of Fisher Scoring iterations: 5\n",
            "\n"
          ]
        }
      ]
    },
    {
      "cell_type": "markdown",
      "source": [
        "removing columns Pr(>|z|) > 0.05"
      ],
      "metadata": {
        "id": "2SfpvuUaBWAK"
      }
    },
    {
      "cell_type": "code",
      "source": [
        "%%R\n",
        "lg2 = glm(RainTomorrow ~ Rainfall + Evaporation + Sunshine + WindSpeed9am + WindSpeed3pm + Humidity3pm + Pressure3pm + Cloud9am +\n",
        "                 Cloud3pm + RainToday + WindGustDir+WindDir9am+WindDir3pm, family = binomial(link = 'logit'), data = trainSet)\n",
        "summary(lg2)"
      ],
      "metadata": {
        "colab": {
          "base_uri": "https://localhost:8080/"
        },
        "id": "Pu3bm5GXBpqd",
        "outputId": "08acfead-3256-4a55-b8df-bd7c1f24f008"
      },
      "execution_count": null,
      "outputs": [
        {
          "output_type": "stream",
          "name": "stdout",
          "text": [
            "\n",
            "Call:\n",
            "glm(formula = RainTomorrow ~ Rainfall + Evaporation + Sunshine + \n",
            "    WindSpeed9am + WindSpeed3pm + Humidity3pm + Pressure3pm + \n",
            "    Cloud9am + Cloud3pm + RainToday + WindGustDir + WindDir9am + \n",
            "    WindDir3pm, family = binomial(link = \"logit\"), data = trainSet)\n",
            "\n",
            "Deviance Residuals: \n",
            "    Min       1Q   Median       3Q      Max  \n",
            "-2.9280  -0.5995  -0.3393  -0.1490   3.0867  \n",
            "\n",
            "Coefficients:\n",
            "                Estimate Std. Error z value Pr(>|z|)    \n",
            "(Intercept)    -3.458569   0.095246 -36.312  < 2e-16 ***\n",
            "Rainfall        0.770719   0.070574  10.921  < 2e-16 ***\n",
            "Evaporation     0.261238   0.060498   4.318 1.57e-05 ***\n",
            "Sunshine       -1.490600   0.063498 -23.475  < 2e-16 ***\n",
            "WindSpeed9am    0.410595   0.044220   9.285  < 2e-16 ***\n",
            "WindSpeed3pm    0.093199   0.046471   2.006 0.044908 *  \n",
            "Humidity3pm     3.933027   0.054058  72.755  < 2e-16 ***\n",
            "Pressure3pm    -2.180038   0.049145 -44.359  < 2e-16 ***\n",
            "Cloud9am        0.342385   0.041893   8.173 3.01e-16 ***\n",
            "Cloud3pm        1.462588   0.050694  28.851  < 2e-16 ***\n",
            "RainTodayYes    0.654983   0.028824  22.723  < 2e-16 ***\n",
            "WindGustDirENE -0.172596   0.062535  -2.760 0.005780 ** \n",
            "WindGustDirESE  0.068590   0.062716   1.094 0.274098    \n",
            "WindGustDirN   -0.071663   0.063404  -1.130 0.258364    \n",
            "WindGustDirNE  -0.281738   0.065496  -4.302 1.70e-05 ***\n",
            "WindGustDirNNE -0.162330   0.066444  -2.443 0.014560 *  \n",
            "WindGustDirNNW  0.003946   0.067541   0.058 0.953410    \n",
            "WindGustDirNW   0.082395   0.065124   1.265 0.205797    \n",
            "WindGustDirS    0.131651   0.062445   2.108 0.035008 *  \n",
            "WindGustDirSE   0.150520   0.060939   2.470 0.013511 *  \n",
            "WindGustDirSSE  0.147222   0.062384   2.360 0.018278 *  \n",
            "WindGustDirSSW  0.076122   0.063485   1.199 0.230511    \n",
            "WindGustDirSW   0.054183   0.064597   0.839 0.401595    \n",
            "WindGustDirW    0.101063   0.062867   1.608 0.107929    \n",
            "WindGustDirWNW  0.076501   0.064771   1.181 0.237560    \n",
            "WindGustDirWSW  0.107030   0.063981   1.673 0.094359 .  \n",
            "WindDir9amENE   0.266542   0.061140   4.360 1.30e-05 ***\n",
            "WindDir9amESE  -0.100920   0.063797  -1.582 0.113674    \n",
            "WindDir9amN     0.378282   0.056256   6.724 1.76e-11 ***\n",
            "WindDir9amNE    0.297121   0.061540   4.828 1.38e-06 ***\n",
            "WindDir9amNNE   0.513951   0.059341   8.661  < 2e-16 ***\n",
            "WindDir9amNNW   0.131329   0.060053   2.187 0.028750 *  \n",
            "WindDir9amNW    0.047233   0.060427   0.782 0.434414    \n",
            "WindDir9amS    -0.239034   0.061026  -3.917 8.97e-05 ***\n",
            "WindDir9amSE   -0.168831   0.061033  -2.766 0.005671 ** \n",
            "WindDir9amSSE  -0.222203   0.060294  -3.685 0.000228 ***\n",
            "WindDir9amSSW  -0.110470   0.062406  -1.770 0.076696 .  \n",
            "WindDir9amSW    0.013123   0.060266   0.218 0.827623    \n",
            "WindDir9amW     0.008852   0.060771   0.146 0.884190    \n",
            "WindDir9amWNW   0.033591   0.061981   0.542 0.587846    \n",
            "WindDir9amWSW  -0.031051   0.062477  -0.497 0.619187    \n",
            "WindDir3pmENE   0.098703   0.061553   1.604 0.108815    \n",
            "WindDir3pmESE   0.066785   0.060848   1.098 0.272390    \n",
            "WindDir3pmN     0.447659   0.063523   7.047 1.82e-12 ***\n",
            "WindDir3pmNE    0.027709   0.063810   0.434 0.664115    \n",
            "WindDir3pmNNE   0.317326   0.065935   4.813 1.49e-06 ***\n",
            "WindDir3pmNNW   0.492139   0.065383   7.527 5.19e-14 ***\n",
            "WindDir3pmNW    0.468992   0.064761   7.242 4.43e-13 ***\n",
            "WindDir3pmS    -0.026932   0.061866  -0.435 0.663319    \n",
            "WindDir3pmSE   -0.008770   0.060377  -0.145 0.884507    \n",
            "WindDir3pmSSE  -0.064308   0.062032  -1.037 0.299884    \n",
            "WindDir3pmSSW   0.011243   0.064595   0.174 0.861824    \n",
            "WindDir3pmSW   -0.106238   0.064514  -1.647 0.099611 .  \n",
            "WindDir3pmW     0.080622   0.063249   1.275 0.202423    \n",
            "WindDir3pmWNW   0.298494   0.064074   4.659 3.18e-06 ***\n",
            "WindDir3pmWSW  -0.014804   0.063996  -0.231 0.817060    \n",
            "---\n",
            "Signif. codes:  0 ‘***’ 0.001 ‘**’ 0.01 ‘*’ 0.05 ‘.’ 0.1 ‘ ’ 1\n",
            "\n",
            "(Dispersion parameter for binomial family taken to be 1)\n",
            "\n",
            "    Null deviance: 95313  on 90339  degrees of freedom\n",
            "Residual deviance: 69202  on 90284  degrees of freedom\n",
            "AIC: 69314\n",
            "\n",
            "Number of Fisher Scoring iterations: 5\n",
            "\n"
          ]
        }
      ]
    },
    {
      "cell_type": "code",
      "source": [
        "#predict\n",
        "%%R\n",
        "pred = predict(lg2, newdata = testSet, type='response')\n",
        "\n",
        "actual = testSet$RainTomorrow\n",
        "predictedvalues=rep(0,length(pred))\n",
        "predictedvalues[pred>0.5]=1\n"
      ],
      "metadata": {
        "id": "5joGb_Or8yO7"
      },
      "execution_count": null,
      "outputs": []
    },
    {
      "cell_type": "code",
      "source": [
        "%%R\n",
        "confusion_matrix=table(actual,predictedvalues)\n",
        "confusion_matrix"
      ],
      "metadata": {
        "colab": {
          "base_uri": "https://localhost:8080/"
        },
        "id": "sPVrcm_9_wH0",
        "outputId": "fd71647b-b841-46e2-e362-c3679fa0fb7e"
      },
      "execution_count": null,
      "outputs": [
        {
          "output_type": "stream",
          "name": "stdout",
          "text": [
            "      predictedvalues\n",
            "actual     0     1\n",
            "   No  16444  1041\n",
            "   Yes  2931  2169\n"
          ]
        }
      ]
    },
    {
      "cell_type": "code",
      "source": [
        "%%R\n",
        "testSet$RainTomorrow_dummy = 0\n",
        "testSet$RainTomorrow_dummy[which(testSet$RainTomorrow == 'Yes')] = 1\n",
        "table(predictedvalues , testSet$RainTomorrow_dummy)"
      ],
      "metadata": {
        "colab": {
          "base_uri": "https://localhost:8080/"
        },
        "id": "6EiqEErQbTXQ",
        "outputId": "74e85b36-b6d6-417c-ea7a-efebbf09bf2d"
      },
      "execution_count": null,
      "outputs": [
        {
          "output_type": "stream",
          "name": "stdout",
          "text": [
            "               \n",
            "predictedvalues     0     1\n",
            "              0 16444  2931\n",
            "              1  1041  2169\n"
          ]
        }
      ]
    },
    {
      "cell_type": "markdown",
      "source": [
        "Total 1041 False negatives and 2931 False postives"
      ],
      "metadata": {
        "id": "YJHUbKS__4cQ"
      }
    },
    {
      "cell_type": "code",
      "source": [
        "%%R\n",
        "mean(predictedvalues == testSet$RainTomorrow_dummy)*100"
      ],
      "metadata": {
        "colab": {
          "base_uri": "https://localhost:8080/"
        },
        "id": "dwRIFTh4_y4X",
        "outputId": "52dcd8f0-a58e-4139-8b35-2794ae0136cf"
      },
      "execution_count": null,
      "outputs": [
        {
          "output_type": "stream",
          "name": "stdout",
          "text": [
            "[1] 82.41311\n"
          ]
        }
      ]
    },
    {
      "cell_type": "markdown",
      "source": [
        "Logistic Regression is 82.41% accurate"
      ],
      "metadata": {
        "id": "wA1eN1AFdiqO"
      }
    },
    {
      "cell_type": "code",
      "source": [
        "%%R\n",
        "plot(lg2)"
      ],
      "metadata": {
        "colab": {
          "base_uri": "https://localhost:8080/",
          "height": 1000
        },
        "id": "lGsYyaeaAmNS",
        "outputId": "f661528a-904e-48ee-e0e1-8a095c3ea012"
      },
      "execution_count": null,
      "outputs": [
        {
          "output_type": "display_data",
          "data": {
            "image/png": "[encoded data removed]"
          },
          "metadata": {}
        },
        {
          "output_type": "display_data",
          "data": {
            "image/png": "[encoded data removed]"
          },
          "metadata": {}
        },
        {
          "output_type": "display_data",
          "data": {
            "image/png": "[encoded data removed]"
          },
          "metadata": {}
        },
        {
          "output_type": "display_data",
          "data": {
            "image/png": "[encoded data removed]"
          },
          "metadata": {}
        }
      ]
    },
    {
      "cell_type": "code",
      "source": [
        "%%R\n",
        "hist(d_normal$Rainfall)"
      ],
      "metadata": {
        "colab": {
          "base_uri": "https://localhost:8080/"
        },
        "id": "VIWOYDIKp8dU",
        "outputId": "5a8e4d3e-3cff-4246-e2ed-4ef639833807"
      },
      "execution_count": null,
      "outputs": [
        {
          "output_type": "stream",
          "name": "stderr",
          "text": [
            "UsageError: Cell magic `%%R` not found.\n"
          ]
        }
      ]
    },
    {
      "cell_type": "code",
      "source": [
        ""
      ],
      "metadata": {
        "id": "uKeHU-g2Ev8w"
      },
      "execution_count": null,
      "outputs": []
    }
  ]
}